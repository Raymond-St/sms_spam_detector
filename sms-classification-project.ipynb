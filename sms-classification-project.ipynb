{
 "cells": [
  {
   "cell_type": "code",
   "execution_count": 1,
   "metadata": {},
   "outputs": [],
   "source": [
    "import pandas as pd\n",
    "import numpy as np\n",
    "import gradio as gr\n",
    "import matplotlib.pyplot as plt\n",
    "import seaborn as sns\n",
    "from sklearn.model_selection import cross_val_score\n",
    "from sklearn.linear_model import LogisticRegression\n",
    "from sklearn.svm import LinearSVC\n",
    "from sklearn.model_selection import train_test_split\n",
    "from sklearn.feature_extraction.text import TfidfVectorizer\n",
    "from sklearn.naive_bayes import MultinomialNB\n",
    "from sklearn.metrics import classification_report, confusion_matrix, accuracy_score\n",
    "from sklearn.pipeline import Pipeline\n",
    "import joblib\n",
    "import os\n"
   ]
  },
  {
   "cell_type": "code",
   "execution_count": 2,
   "metadata": {},
   "outputs": [],
   "source": [
    "# Create project directory structure if it doesn't exist\n",
    "project_dir = \"21-gradio_sms_text_classification\"\n",
    "if not os.path.exists(project_dir):\n",
    "    os.makedirs(project_dir)\n",
    "    os.makedirs(os.path.join(project_dir, \"data\"))\n",
    "    os.makedirs(os.path.join(project_dir, \"models\"))\n"
   ]
  },
  {
   "cell_type": "code",
   "execution_count": null,
   "metadata": {},
   "outputs": [
    {
     "name": "stdout",
     "output_type": "stream",
     "text": [
      "<class 'pandas.core.frame.DataFrame'>\n",
      "RangeIndex: 5573 entries, 0 to 5572\n",
      "Data columns (total 2 columns):\n",
      " #   Column   Non-Null Count  Dtype  \n",
      "---  ------   --------------  -----  \n",
      " 0   label    5572 non-null   float64\n",
      " 1   message  5573 non-null   object \n",
      "dtypes: float64(1), object(1)\n",
      "memory usage: 87.2+ KB\n",
      "None\n"
     ]
    }
   ],
   "source": [
    "# Function to prepare the dataset\n",
    "def prepare_dataset():\n",
    "    # Load the dataset into a DataFrame\n",
    "    # Assuming the dataset has columns 'label' and 'message'\n",
    "    # If the columns are different, adjust the code accordingly\n",
    "    sms_spam_df = pd.read_csv('Resources/SMSSpamCollection.csv', sep=',', names=['label', 'message'], encoding='utf-8')\n",
    "\n",
    "\n",
    "    # Convert spam/ham to binary labels if needed\n",
    "    if 'label' in sms_spam_df.columns and sms_spam_df['label'].dtype == object:\n",
    "        sms_spam_df['label'] = sms_spam_df['label'].map({'ham': 0, 'spam': 1})\n",
    "    \n",
    "    # Save the cleaned dataset\n",
    "    sms_spam_df.to_csv(os.path.join(project_dir, \"data\", \"sms_dataset.csv\"), index=False)\n",
    "    \n",
    "    return sms_spam_df\n",
    "# copy_sms_spam_df = prepare_dataset()\n",
    "# print(copy_sms_spam_df.info())\n"
   ]
  },
  {
   "cell_type": "code",
   "execution_count": 6,
   "metadata": {},
   "outputs": [],
   "source": [
    "# Function to train the model\n",
    "def sms_classification(sms_spam_df):\n",
    "    # Split data into features and target\n",
    "    X = sms_spam_df['message']\n",
    "    y = sms_spam_df['label']\n",
    "    \n",
    "    # Split into training and testing sets\n",
    "    X_train, X_test, y_train, y_test = train_test_split(X, y, test_size=0.33, random_state=42)\n",
    "    \n",
    "    # Create a pipeline with TF-IDF vectorizer and Naive Bayes classifier\n",
    "    model = Pipeline([\n",
    "        ('tfidf', TfidfVectorizer(max_features=5000, ngram_range=(1, 2))),\n",
    "        ('classifier', MultinomialNB())\n",
    "    ])\n",
    "    model.fit(X_train, y_train)\n",
    "    return model\n",
    "\n",
    "    # # Train the model\n",
    "    # model.fit(X_train, y_train)\n",
    "    \n",
    "    # # Evaluate the model\n",
    "    # y_pred = model.predict(X_test)\n",
    "    # accuracy = accuracy_score(y_test, y_pred)\n",
    "    # report = classification_report(y_test, y_pred)\n",
    "    \n",
    "    # # Plot confusion matrix\n",
    "    # cm = confusion_matrix(y_test, y_pred)\n",
    "    # plt.figure(figsize=(8, 6))\n",
    "    # sns.heatmap(cm, annot=True, fmt='d', cmap='Blues', xticklabels=['Ham', 'Spam'], yticklabels=['Ham', 'Spam'])\n",
    "    # plt.xlabel('Predicted')\n",
    "    # plt.ylabel('Actual')\n",
    "    # plt.title('Confusion Matrix')\n",
    "    # plt.savefig(os.path.join(project_dir, \"data\", \"confusion_matrix.png\"))\n",
    "   \n",
    "# Save the model\n",
    "# joblib.dump(model, os.path.join(project_dir, \"models\", \"sms_classifier.pkl\"))\n",
    "                    "
   ]
  },
  {
   "cell_type": "code",
   "execution_count": 12,
   "metadata": {},
   "outputs": [],
   "source": [
    "# Function to classify SMS\n",
    "def sms_prediction(text, model):\n",
    "    # Predict if the message is spam or ham\n",
    "    prediction = model.predict([text])[0]\n",
    "    # probs = model.predict_proba([text])[0]\n",
    "    \n",
    "    # Return the result\n",
    "    if prediction == 1:\n",
    "        return f\"The text message: '{text}', is Spam)\"\n",
    "    else:\n",
    "        return f\"The text message: '{text}', is *NOT* Spam)\""
   ]
  },
  {
   "cell_type": "code",
   "execution_count": 11,
   "metadata": {},
   "outputs": [],
   "source": [
    "# Main function\n",
    "def main():\n",
    "    # Prepare the dataset\n",
    "    print(\"Preparing dataset...\")\n",
    "    sms_spam_df = prepare_dataset()\n",
    "    \n",
    "    # Train the model\n",
    "    print(\"Training model...\")\n",
    "    model, accuracy, report = sms_classification(sms_spam_df)\n",
    "    print(f\"Model accuracy: {accuracy:.2%}\")\n",
    "    print(\"Classification report:\")\n",
    "    print(report)\n",
    "    \n",
    "    # Define the Gradio interface\n",
    "    def gradio_predict(message):\n",
    "        return classify_sms(message, model)\n",
    "    \n",
    "    # Create Gradio interface\n",
    "    demo = gr.Interface(\n",
    "        fn=gradio_predict,\n",
    "        inputs=gr.Textbox(lines=5, placeholder=\"Enter a text message here...\"),\n",
    "        outputs=gr.Textbox(),\n",
    "        title=\"SMS Spam Classifier\",\n",
    "        description=\"Enter a text message to classify it as spam or ham (not spam).\",\n",
    "        examples=[\n",
    "            [\"Congratulations! You've won a $1000 gift card. Call now to claim your prize!\"],\n",
    "            [\"Hey, what time should we meet for dinner tonight?\"],\n",
    "            [\"URGENT: Your bank account has been suspended. Click here to verify your information.\"],\n",
    "            [\"Don't forget to pick up milk on your way home.\"]\n",
    "        ]\n",
    "    )\n",
    "\n",
    "    demo.launch()\n",
    "    if __name__ == \"__main__\":\n",
    "        main()\n"
   ]
  }
 ],
 "metadata": {
  "kernelspec": {
   "display_name": "base",
   "language": "python",
   "name": "python3"
  },
  "language_info": {
   "codemirror_mode": {
    "name": "ipython",
    "version": 3
   },
   "file_extension": ".py",
   "mimetype": "text/x-python",
   "name": "python",
   "nbconvert_exporter": "python",
   "pygments_lexer": "ipython3",
   "version": "3.12.7"
  }
 },
 "nbformat": 4,
 "nbformat_minor": 2
}
