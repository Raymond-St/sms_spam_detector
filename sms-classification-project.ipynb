{
 "cells": [
  {
   "cell_type": "code",
   "execution_count": 7,
   "metadata": {},
   "outputs": [],
   "source": [
    "import re\n",
    "import pandas as pd\n",
    "import numpy as np\n",
    "import gradio as gr\n",
    "import matplotlib.pyplot as plt\n",
    "import seaborn as sns\n",
    "from sklearn.model_selection import cross_val_score\n",
    "from sklearn.linear_model import LogisticRegression\n",
    "from sklearn.svm import LinearSVC\n",
    "from sklearn.model_selection import train_test_split\n",
    "from sklearn.feature_extraction.text import TfidfVectorizer\n",
    "from sklearn.naive_bayes import MultinomialNB\n",
    "from sklearn.metrics import classification_report, confusion_matrix, accuracy_score\n",
    "from sklearn.pipeline import Pipeline\n",
    "from sklearn.ensemble import RandomForestClassifier\n",
    "import joblib\n",
    "import os\n"
   ]
  },
  {
   "cell_type": "code",
   "execution_count": 2,
   "metadata": {},
   "outputs": [],
   "source": [
    "# Create project directory structure if it doesn't exist\n",
    "project_dir = \"21-gradio_sms_text_classification\"\n",
    "if not os.path.exists(project_dir):\n",
    "    os.makedirs(project_dir)\n",
    "    os.makedirs(os.path.join(project_dir, \"data\"))\n",
    "    os.makedirs(os.path.join(project_dir, \"models\"))\n"
   ]
  },
  {
   "cell_type": "code",
   "execution_count": 3,
   "metadata": {},
   "outputs": [],
   "source": [
    "# Function to prepare the dataset\n",
    "def prepare_dataset():\n",
    "    # Load the dataset into a DataFrame\n",
    "    # Assuming the dataset has columns 'label' and 'message'\n",
    "    # If the columns are different, adjust the code accordingly\n",
    "    sms_spam_df = pd.read_csv('Resources/SMSSpamCollection.csv', sep=',', names=['label', 'message'], encoding='utf-8')\n",
    "\n",
    "    # Conduct some basic Pre-Processing:\n",
    "    def preprocess_text(text):\n",
    "        text = text.lower()\n",
    "        # Remove special characters\n",
    "        text = re.sub(r'[^\\w\\s]', '', text)\n",
    "        # Remove numbers\n",
    "        text = re.sub(r'\\d+', '', text)\n",
    "        return text\n",
    "\n",
    "    # Apply preprocessing to the dataset\n",
    "    sms_spam_df['processed_message'] = sms_spam_df['message'].apply(preprocess_text)\n",
    "\n",
    "    # Convert spam/ham to binary labels \n",
    "    if 'label' in sms_spam_df.columns and sms_spam_df['label'].dtype == object:\n",
    "        sms_spam_df['label'] = sms_spam_df['label'].map({'ham': 0, 'spam': 1})\n",
    "    \n",
    "    # Locally Save the cleaned dataset to CSV \n",
    "    sms_spam_df.to_csv(os.path.join(project_dir, \"data\", \"sms_dataset.csv\"), index=False)\n",
    "    \n",
    "    return sms_spam_df\n",
    "# copy_sms_spam_df = prepare_dataset()\n",
    "# print(copy_sms_spam_df.info())\n"
   ]
  },
  {
   "cell_type": "code",
   "execution_count": 4,
   "metadata": {},
   "outputs": [],
   "source": [
    "# Function to train the model\n",
    "def sms_classification(sms_spam_df):\n",
    "    sms_spam_df = sms_spam_df.dropna(subset=['label'])\n",
    "    # Split data into features and target\n",
    "    X = sms_spam_df['message']\n",
    "    y = sms_spam_df['label']\n",
    "    \n",
    "    # Split into training and testing sets\n",
    "    X_train, X_test, y_train, y_test = train_test_split(X, y, test_size=0.33, random_state=42)\n",
    "    \n",
    "    # Initialize the Tfidf Vectors\n",
    "    tfidf = TfidfVectorizer(max_features=5000, ngram_range=(1, 2))\n",
    "    X_train_tfidf = tfidf.fit_transform(X_train)\n",
    "    X_test_tfidf = tfidf.transform(X_test)\n",
    "\n",
    "    # Initialize the Classifiers:\n",
    "    models = {\n",
    "        'Naive Bayes': MultinomialNB(),\n",
    "        'Random Forest': RandomForestClassifier(n_estimators=100, random_state=42),\n",
    "        'Support Vector Machines (\"SVM\")': LinearSVC(random_state=42, max_iter=1000)}\n",
    "    \n",
    "    # Evaluate each model:\n",
    "    results = {}\n",
    "    best_model = None\n",
    "    best_accuracy = 0\n",
    "    best_classifier = None\n",
    "    best_model_name = ''\n",
    "\n",
    "    # Train the model:\n",
    "    for name, model in models.items():\n",
    "        model.fit(X_train_tfidf, y_train)\n",
    "\n",
    "        # Test:\n",
    "        y_pred = model.predict(X_test_tfidf)\n",
    "        accuracy = accuracy_score(y_test, y_pred)\n",
    "        \n",
    "        # Print results:\n",
    "        print(f'{name} Accuracy: {accuracy:.2f}')\n",
    "    \n",
    "        # Keep track of the best model:\n",
    "        if accuracy > best_accuracy:\n",
    "            best_accuracy = accuracy\n",
    "            best_model_name = name\n",
    "            best_classifier = model\n",
    "    \n",
    "    final_sms_classifier = Pipeline([\n",
    "        ('tfidf', TfidfVectorizer(max_features=5000, ngram_range=(1, 2))),\n",
    "        ('classifier', best_classifier)\n",
    "    ])\n",
    "\n",
    "    final_sms_classifier.fit(X_train, y_train)\n",
    "    return final_sms_classifier\n",
    "\n",
    "  \n",
    "# Save the model\n",
    "# joblib.dump(model, os.path.join(project_dir, \"models\", \"sms_classifier.pkl\"))\n",
    "                    "
   ]
  },
  {
   "cell_type": "code",
   "execution_count": 9,
   "metadata": {},
   "outputs": [],
   "source": [
    "# Function to classify SMS\n",
    "def sms_prediction(text, model):\n",
    "    # Predict if the message is spam or ham\n",
    "    prediction = model.predict([text])[0]\n",
    "    # probs = model.predict_proba([text])[0]\n",
    "    \n",
    "    # Return the result\n",
    "    if prediction == 1:\n",
    "        return f\"The text message: '{text}', is Spam (Looks Supicious)!\"\n",
    "    else:\n",
    "        return f\"The text message: '{text}', is *NOT* Spam(Maybe OK) \""
   ]
  },
  {
   "cell_type": "code",
   "execution_count": null,
   "metadata": {},
   "outputs": [
    {
     "name": "stdout",
     "output_type": "stream",
     "text": [
      "Preparing dataset...\n",
      "Training model...\n",
      "Naive Bayes Accuracy: 0.98\n",
      "Random Forest Accuracy: 0.98\n",
      "Support Vector Machines (\"SVM\") Accuracy: 0.99\n",
      "* Running on local URL:  http://127.0.0.1:7863\n",
      "* Running on public URL: https://f56266a9b9346a2bae.gradio.live\n",
      "\n",
      "This share link expires in 1 week. For free permanent hosting and GPU upgrades, run `gradio deploy` from the terminal in the working directory to deploy to Hugging Face Spaces (https://huggingface.co/spaces)\n"
     ]
    },
    {
     "data": {
      "text/html": [
       "<div><iframe src=\"https://f56266a9b9346a2bae.gradio.live\" width=\"100%\" height=\"500\" allow=\"autoplay; camera; microphone; clipboard-read; clipboard-write;\" frameborder=\"0\" allowfullscreen></iframe></div>"
      ],
      "text/plain": [
       "<IPython.core.display.HTML object>"
      ]
     },
     "metadata": {},
     "output_type": "display_data"
    }
   ],
   "source": [
    "# Main function\n",
    "def main():\n",
    "    # Prepare the dataset\n",
    "    print(\"Preparing dataset...\")\n",
    "    sms_spam_df = prepare_dataset()\n",
    "    \n",
    "    # Train the model\n",
    "    print(\"Training model...\")\n",
    "    model = sms_classification(sms_spam_df)\n",
    "    \n",
    "    # Define the Gradio interface\n",
    "    def gradio_predict(message):\n",
    "        return sms_prediction(message, model)\n",
    "    \n",
    "    # Create Gradio interface\n",
    "    demo = gr.Interface(\n",
    "        fn=gradio_predict,\n",
    "        inputs=gr.Textbox(lines=5, placeholder=\"Enter a text message here...\"),\n",
    "        outputs=gr.Textbox(),\n",
    "        title=\"SMS Spam Classifier\",\n",
    "        description=\"Enter a text message to classify it as spam or ham (not spam).\",\n",
    "        examples=[\n",
    "            ['Urgent: Your package is waiting for delivery. Confirm your details'],\n",
    "            ['a family member has been in an accident. Please call us back here'],\n",
    "            ['Our records show you overpaid for your car insurance, click here:'],         \n",
    "            [\"You are a lucky winner of $5000!\"],\n",
    "            [\"You won 2 free tickets to the Super Bowl.\"],\n",
    "            [\"You won 2 free tickets to the Super Bowl. Text us to claim your prize.\"],\n",
    "            [\"Thanks for registering. Text 4343 to receive free updates on medicare.\"],\n",
    "            [\"Congratulations! You've won a $1000 gift card. Call now to claim your prize!\"],\n",
    "            [\"Hey, what time should we meet for dinner tonight?\"],\n",
    "            [\"URGENT: Your bank account has been suspended. Click here to verify your information.\"],\n",
    "            [\"Don't forget to pick up milk on your way home.\"]\n",
    "        ]\n",
    "    )\n",
    "    demo.launch(share=True)\n",
    "if __name__ == \"__main__\":\n",
    "    main()\n"
   ]
  }
 ],
 "metadata": {
  "kernelspec": {
   "display_name": "base",
   "language": "python",
   "name": "python3"
  },
  "language_info": {
   "codemirror_mode": {
    "name": "ipython",
    "version": 3
   },
   "file_extension": ".py",
   "mimetype": "text/x-python",
   "name": "python",
   "nbconvert_exporter": "python",
   "pygments_lexer": "ipython3",
   "version": "3.12.7"
  }
 },
 "nbformat": 4,
 "nbformat_minor": 2
}
